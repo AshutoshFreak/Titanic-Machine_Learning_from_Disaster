{
  "cells": [
    {
      "cell_type": "code",
      "execution_count": null,
      "metadata": {
        "collapsed": true,
        "pycharm": {
          "is_executing": true
        }
      },
      "outputs": [
        {
          "name": "stdout",
          "text": [
            "Hello World!\n"
          ],
          "output_type": "stream"
        }
      ],
      "source": "print(\"Hello World!\")"
    },
    {
      "cell_type": "code",
      "execution_count": 3,
      "outputs": [
        {
          "name": "stdout",
          "text": [
            "Hello!\n"
          ],
          "output_type": "stream"
        }
      ],
      "source": "\nprint(\"Hello!\")\n\nimport pandas as pd\n\n\n",
      "metadata": {
        "pycharm": {
          "metadata": false,
          "name": "#%%\n",
          "is_executing": false
        }
      }
    }
  ],
  "metadata": {
    "language_info": {
      "codemirror_mode": {
        "name": "ipython",
        "version": 2
      },
      "file_extension": ".py",
      "mimetype": "text/x-python",
      "name": "python",
      "nbconvert_exporter": "python",
      "pygments_lexer": "ipython2",
      "version": "2.7.6"
    },
    "kernelspec": {
      "name": "pycharm-2ec9630f",
      "language": "python",
      "display_name": "PyCharm (Titanic - Machine Learning from Disaster)"
    }
  },
  "nbformat": 4,
  "nbformat_minor": 0
}